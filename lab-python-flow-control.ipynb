{
 "cells": [
  {
   "cell_type": "markdown",
   "id": "d3bfc191-8885-42ee-b0a0-bbab867c6f9f",
   "metadata": {
    "tags": []
   },
   "source": [
    "# Lab | Flow Control"
   ]
  },
  {
   "cell_type": "markdown",
   "id": "3851fcd1-cf98-4653-9c89-e003b7ec9400",
   "metadata": {},
   "source": [
    "## Exercise: Managing Customer Orders Optimized\n",
    "\n",
    "In the last lab, you were starting an online store that sells various products. To ensure smooth operations, you developed a program that manages customer orders and inventory.\n",
    "\n",
    "You did so without using flow control. Let's go a step further and improve this code.\n",
    "\n",
    "Follow the steps below to complete the exercise:\n",
    "\n",
    "1. Look at your code from the lab data structures, and improve repeated code with loops.\n",
    "\n",
    "2. Instead of asking the user to input the name of three products that a customer wants to order, do the following:\n",
    "    \n",
    "    a. Prompt the user to enter the name of a product that a customer wants to order.\n",
    "    \n",
    "    b. Add the product name to the \"customer_orders\" set.\n",
    "    \n",
    "    c. Ask the user if they want to add another product (yes/no).\n",
    "    \n",
    "    d. Continue the loop until the user does not want to add another product.\n",
    "\n",
    "3. Instead of updating the inventory by subtracting 1 from the quantity of each product, only do it for  the products that were ordered (those in \"customer_orders\")."
   ]
  },
  {
   "cell_type": "code",
   "execution_count": null,
   "id": "8b5a65c9-d433-4cf1-b833-f09174b295c9",
   "metadata": {},
   "outputs": [],
   "source": [
    "products = [\"t-shirt\", \"mug\", \"hat\", \"book\", \"keychain\"]\n",
    "\n",
    "inventory = {}\n",
    "\n",
    "for item in products:\n",
    "    inventory[item] = int(input(f\"Number of {item} available in the inventory\"))\n",
    "\n",
    "print(inventory)\n",
    "\n",
    "customer_orders = set()\n",
    "\n",
    "while True:\n",
    "    order = input(f\"Select a product that you want to order(t-shirt, mug, hat, book, keychain)\")\n",
    "    if order in products:\n",
    "        customer_orders.add(order)\n",
    "        another = input(\"Do you want to add another product? (yes/no): \")\n",
    "        if another != \"yes\":\n",
    "            break\n",
    "\n",
    "print(f\"Customer ordered the following products: {customer_orders}\")\n",
    "\n",
    "total = len(customer_orders)\n",
    "\n",
    "available_products =list(inventory.values())\n",
    "\n",
    "for x in range(len(available_products)):\n",
    "    available_products[x] = int(available_products[x])\n",
    "\n",
    "total_available_products = sum(available_products)\n",
    "print(f\"Products in the inventory: {total_available_products}\")\n",
    "percentage = int(total / total_available_products * 100)\n",
    "\n",
    "order_status = (total, percentage)\n",
    "\n",
    "print(\"Order Statistics:\")\n",
    "print(f\"Total Products Ordered: {order_status[0]}\")\n",
    "print(f\"Percentage of Products Ordered: {order_status[1]}%\")\n",
    "\n",
    "for item in customer_orders:\n",
    "    if inventory[item] > 0:\n",
    "        inventory[item] -= 1\n",
    "\n",
    "print(\"Updated inventory: \")\n",
    "\n",
    "for key, value in inventory.items():\n",
    "    print(f\"{key} : {value}\")"
   ]
  },
  {
   "cell_type": "code",
   "execution_count": null,
   "id": "75848576-c1a6-4584-a66f-c294fd3a2382",
   "metadata": {},
   "outputs": [],
   "source": []
  }
 ],
 "metadata": {
  "kernelspec": {
   "display_name": "Python 3 (ipykernel)",
   "language": "python",
   "name": "python3"
  },
  "language_info": {
   "codemirror_mode": {
    "name": "ipython",
    "version": 3
   },
   "file_extension": ".py",
   "mimetype": "text/x-python",
   "name": "python",
   "nbconvert_exporter": "python",
   "pygments_lexer": "ipython3",
   "version": "3.12.4"
  }
 },
 "nbformat": 4,
 "nbformat_minor": 5
}
